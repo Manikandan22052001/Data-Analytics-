{
 "cells": [
  {
   "cell_type": "markdown",
   "id": "e49ae608",
   "metadata": {},
   "source": [
    "# Panads using to data analysis\n",
    "    Series\n",
    "    dataFrames\n",
    "    Missing Data\n",
    "    GroupBy\n",
    "    Merging, joining and concatenating\n",
    "    Operations\n",
    "    Data Input and Output"
   ]
  },
  {
   "cell_type": "code",
   "execution_count": 143,
   "id": "ca1004cb",
   "metadata": {},
   "outputs": [],
   "source": [
    "import pandas as pd\n",
    "import numpy as np\n",
    "from numpy.random import randn"
   ]
  },
  {
   "cell_type": "code",
   "execution_count": 144,
   "id": "3f3a157f",
   "metadata": {},
   "outputs": [],
   "source": [
    "lst = ['m','a','n','i']"
   ]
  },
  {
   "cell_type": "code",
   "execution_count": 145,
   "id": "e931dd27",
   "metadata": {},
   "outputs": [
    {
     "data": {
      "text/plain": [
       "0    m\n",
       "1    a\n",
       "2    n\n",
       "3    i\n",
       "dtype: object"
      ]
     },
     "execution_count": 145,
     "metadata": {},
     "output_type": "execute_result"
    }
   ],
   "source": [
    "pd.Series(lst)"
   ]
  },
  {
   "cell_type": "code",
   "execution_count": 146,
   "id": "728d1255",
   "metadata": {},
   "outputs": [],
   "source": [
    "lst2 = ['a','b','c','d']"
   ]
  },
  {
   "cell_type": "code",
   "execution_count": 147,
   "id": "11631295",
   "metadata": {},
   "outputs": [
    {
     "data": {
      "text/plain": [
       "a    m\n",
       "b    a\n",
       "c    n\n",
       "d    i\n",
       "dtype: object"
      ]
     },
     "execution_count": 147,
     "metadata": {},
     "output_type": "execute_result"
    }
   ],
   "source": [
    "pd.Series(data = lst, index=lst2)"
   ]
  },
  {
   "cell_type": "code",
   "execution_count": 148,
   "id": "90a37873",
   "metadata": {},
   "outputs": [
    {
     "data": {
      "text/plain": [
       "a    m\n",
       "b    a\n",
       "c    n\n",
       "d    i\n",
       "dtype: object"
      ]
     },
     "execution_count": 148,
     "metadata": {},
     "output_type": "execute_result"
    }
   ],
   "source": [
    "pd.Series(lst, lst2)"
   ]
  },
  {
   "cell_type": "code",
   "execution_count": 149,
   "id": "dbe396db",
   "metadata": {},
   "outputs": [
    {
     "name": "stdout",
     "output_type": "stream",
     "text": [
      "1         c\n",
      "2       c++\n",
      "3    Python\n",
      "4      java\n",
      "dtype: object\n"
     ]
    }
   ],
   "source": [
    "Programming = ['c','c++','Python','java']\n",
    "\n",
    "index = pd.Series(data = Programming, index = [1,2,3,4])\n",
    "\n",
    "print(index)"
   ]
  },
  {
   "cell_type": "code",
   "execution_count": 150,
   "id": "e4a8356a",
   "metadata": {},
   "outputs": [
    {
     "data": {
      "text/plain": [
       "c         1\n",
       "c++       2\n",
       "python    6\n",
       "java      4\n",
       "dtype: int64"
      ]
     },
     "execution_count": 150,
     "metadata": {},
     "output_type": "execute_result"
    }
   ],
   "source": [
    "ser1= pd.Series([1, 2, 6, 4], index = ['c', 'c++', 'python', 'java'])\n",
    "ser1"
   ]
  },
  {
   "cell_type": "code",
   "execution_count": 151,
   "id": "986967d2",
   "metadata": {},
   "outputs": [
    {
     "data": {
      "text/plain": [
       "c             5\n",
       "java          3\n",
       "python        2\n",
       "javascript    2\n",
       "dtype: int64"
      ]
     },
     "execution_count": 151,
     "metadata": {},
     "output_type": "execute_result"
    }
   ],
   "source": [
    "ser2= pd.Series([5, 3, 2, 2], index = ['c', 'java', 'python', 'javascript'])\n",
    "ser2"
   ]
  },
  {
   "cell_type": "code",
   "execution_count": 152,
   "id": "e5b1babc",
   "metadata": {},
   "outputs": [
    {
     "data": {
      "text/plain": [
       "c             6.0\n",
       "c++           NaN\n",
       "java          7.0\n",
       "javascript    NaN\n",
       "python        8.0\n",
       "dtype: float64"
      ]
     },
     "execution_count": 152,
     "metadata": {},
     "output_type": "execute_result"
    }
   ],
   "source": [
    "ser1 + ser2"
   ]
  },
  {
   "cell_type": "markdown",
   "id": "8cb68ddd",
   "metadata": {},
   "source": [
    "# DataFrames"
   ]
  },
  {
   "cell_type": "code",
   "execution_count": 153,
   "id": "825d9d39",
   "metadata": {},
   "outputs": [],
   "source": [
    "df = pd.DataFrame(randn(5,5), index = '1 2 3 4 5'.split(), columns = ['A','B','C','D','E'])"
   ]
  },
  {
   "cell_type": "code",
   "execution_count": 154,
   "id": "df3461c7",
   "metadata": {},
   "outputs": [
    {
     "data": {
      "text/html": [
       "<div>\n",
       "<style scoped>\n",
       "    .dataframe tbody tr th:only-of-type {\n",
       "        vertical-align: middle;\n",
       "    }\n",
       "\n",
       "    .dataframe tbody tr th {\n",
       "        vertical-align: top;\n",
       "    }\n",
       "\n",
       "    .dataframe thead th {\n",
       "        text-align: right;\n",
       "    }\n",
       "</style>\n",
       "<table border=\"1\" class=\"dataframe\">\n",
       "  <thead>\n",
       "    <tr style=\"text-align: right;\">\n",
       "      <th></th>\n",
       "      <th>A</th>\n",
       "      <th>B</th>\n",
       "      <th>C</th>\n",
       "      <th>D</th>\n",
       "      <th>E</th>\n",
       "    </tr>\n",
       "  </thead>\n",
       "  <tbody>\n",
       "    <tr>\n",
       "      <th>1</th>\n",
       "      <td>0.913668</td>\n",
       "      <td>-0.784681</td>\n",
       "      <td>-1.280079</td>\n",
       "      <td>0.453169</td>\n",
       "      <td>0.538182</td>\n",
       "    </tr>\n",
       "    <tr>\n",
       "      <th>2</th>\n",
       "      <td>-0.548434</td>\n",
       "      <td>-0.269612</td>\n",
       "      <td>-0.776509</td>\n",
       "      <td>-0.120699</td>\n",
       "      <td>-0.454400</td>\n",
       "    </tr>\n",
       "    <tr>\n",
       "      <th>3</th>\n",
       "      <td>0.710297</td>\n",
       "      <td>-0.649172</td>\n",
       "      <td>-0.056867</td>\n",
       "      <td>0.482628</td>\n",
       "      <td>-0.778616</td>\n",
       "    </tr>\n",
       "    <tr>\n",
       "      <th>4</th>\n",
       "      <td>-0.579512</td>\n",
       "      <td>0.551059</td>\n",
       "      <td>-1.241567</td>\n",
       "      <td>0.921067</td>\n",
       "      <td>-0.750316</td>\n",
       "    </tr>\n",
       "    <tr>\n",
       "      <th>5</th>\n",
       "      <td>1.396336</td>\n",
       "      <td>-0.595659</td>\n",
       "      <td>-0.090335</td>\n",
       "      <td>0.048473</td>\n",
       "      <td>-0.240667</td>\n",
       "    </tr>\n",
       "  </tbody>\n",
       "</table>\n",
       "</div>"
      ],
      "text/plain": [
       "          A         B         C         D         E\n",
       "1  0.913668 -0.784681 -1.280079  0.453169  0.538182\n",
       "2 -0.548434 -0.269612 -0.776509 -0.120699 -0.454400\n",
       "3  0.710297 -0.649172 -0.056867  0.482628 -0.778616\n",
       "4 -0.579512  0.551059 -1.241567  0.921067 -0.750316\n",
       "5  1.396336 -0.595659 -0.090335  0.048473 -0.240667"
      ]
     },
     "execution_count": 154,
     "metadata": {},
     "output_type": "execute_result"
    }
   ],
   "source": [
    "df"
   ]
  },
  {
   "cell_type": "code",
   "execution_count": 155,
   "id": "df5a391c",
   "metadata": {},
   "outputs": [
    {
     "data": {
      "text/plain": [
       "1   -1.280079\n",
       "2   -0.776509\n",
       "3   -0.056867\n",
       "4   -1.241567\n",
       "5   -0.090335\n",
       "Name: C, dtype: float64"
      ]
     },
     "execution_count": 155,
     "metadata": {},
     "output_type": "execute_result"
    }
   ],
   "source": [
    "df['C']"
   ]
  },
  {
   "cell_type": "code",
   "execution_count": 156,
   "id": "969eefea",
   "metadata": {},
   "outputs": [
    {
     "data": {
      "text/html": [
       "<div>\n",
       "<style scoped>\n",
       "    .dataframe tbody tr th:only-of-type {\n",
       "        vertical-align: middle;\n",
       "    }\n",
       "\n",
       "    .dataframe tbody tr th {\n",
       "        vertical-align: top;\n",
       "    }\n",
       "\n",
       "    .dataframe thead th {\n",
       "        text-align: right;\n",
       "    }\n",
       "</style>\n",
       "<table border=\"1\" class=\"dataframe\">\n",
       "  <thead>\n",
       "    <tr style=\"text-align: right;\">\n",
       "      <th></th>\n",
       "      <th>D</th>\n",
       "      <th>B</th>\n",
       "    </tr>\n",
       "  </thead>\n",
       "  <tbody>\n",
       "    <tr>\n",
       "      <th>1</th>\n",
       "      <td>0.453169</td>\n",
       "      <td>-0.784681</td>\n",
       "    </tr>\n",
       "    <tr>\n",
       "      <th>2</th>\n",
       "      <td>-0.120699</td>\n",
       "      <td>-0.269612</td>\n",
       "    </tr>\n",
       "    <tr>\n",
       "      <th>3</th>\n",
       "      <td>0.482628</td>\n",
       "      <td>-0.649172</td>\n",
       "    </tr>\n",
       "    <tr>\n",
       "      <th>4</th>\n",
       "      <td>0.921067</td>\n",
       "      <td>0.551059</td>\n",
       "    </tr>\n",
       "    <tr>\n",
       "      <th>5</th>\n",
       "      <td>0.048473</td>\n",
       "      <td>-0.595659</td>\n",
       "    </tr>\n",
       "  </tbody>\n",
       "</table>\n",
       "</div>"
      ],
      "text/plain": [
       "          D         B\n",
       "1  0.453169 -0.784681\n",
       "2 -0.120699 -0.269612\n",
       "3  0.482628 -0.649172\n",
       "4  0.921067  0.551059\n",
       "5  0.048473 -0.595659"
      ]
     },
     "execution_count": 156,
     "metadata": {},
     "output_type": "execute_result"
    }
   ],
   "source": [
    "df[['D','B']]"
   ]
  },
  {
   "cell_type": "code",
   "execution_count": 157,
   "id": "6eec6e20",
   "metadata": {},
   "outputs": [
    {
     "data": {
      "text/html": [
       "<div>\n",
       "<style scoped>\n",
       "    .dataframe tbody tr th:only-of-type {\n",
       "        vertical-align: middle;\n",
       "    }\n",
       "\n",
       "    .dataframe tbody tr th {\n",
       "        vertical-align: top;\n",
       "    }\n",
       "\n",
       "    .dataframe thead th {\n",
       "        text-align: right;\n",
       "    }\n",
       "</style>\n",
       "<table border=\"1\" class=\"dataframe\">\n",
       "  <thead>\n",
       "    <tr style=\"text-align: right;\">\n",
       "      <th></th>\n",
       "      <th>A</th>\n",
       "      <th>C</th>\n",
       "    </tr>\n",
       "  </thead>\n",
       "  <tbody>\n",
       "    <tr>\n",
       "      <th>1</th>\n",
       "      <td>0.913668</td>\n",
       "      <td>-1.280079</td>\n",
       "    </tr>\n",
       "    <tr>\n",
       "      <th>2</th>\n",
       "      <td>-0.548434</td>\n",
       "      <td>-0.776509</td>\n",
       "    </tr>\n",
       "    <tr>\n",
       "      <th>3</th>\n",
       "      <td>0.710297</td>\n",
       "      <td>-0.056867</td>\n",
       "    </tr>\n",
       "    <tr>\n",
       "      <th>4</th>\n",
       "      <td>-0.579512</td>\n",
       "      <td>-1.241567</td>\n",
       "    </tr>\n",
       "    <tr>\n",
       "      <th>5</th>\n",
       "      <td>1.396336</td>\n",
       "      <td>-0.090335</td>\n",
       "    </tr>\n",
       "  </tbody>\n",
       "</table>\n",
       "</div>"
      ],
      "text/plain": [
       "          A         C\n",
       "1  0.913668 -1.280079\n",
       "2 -0.548434 -0.776509\n",
       "3  0.710297 -0.056867\n",
       "4 -0.579512 -1.241567\n",
       "5  1.396336 -0.090335"
      ]
     },
     "execution_count": 157,
     "metadata": {},
     "output_type": "execute_result"
    }
   ],
   "source": [
    "df[['A','C']]"
   ]
  },
  {
   "cell_type": "code",
   "execution_count": 158,
   "id": "fc4b37c7",
   "metadata": {},
   "outputs": [
    {
     "data": {
      "text/plain": [
       "pandas.core.frame.DataFrame"
      ]
     },
     "execution_count": 158,
     "metadata": {},
     "output_type": "execute_result"
    }
   ],
   "source": [
    "type(df[['A','C']])\n",
    "type(df[['D','B']])"
   ]
  },
  {
   "cell_type": "code",
   "execution_count": 159,
   "id": "45c9ace8",
   "metadata": {},
   "outputs": [],
   "source": [
    "df['F'] = df['A'] + df['B']"
   ]
  },
  {
   "cell_type": "code",
   "execution_count": 160,
   "id": "3624c664",
   "metadata": {},
   "outputs": [
    {
     "data": {
      "text/html": [
       "<div>\n",
       "<style scoped>\n",
       "    .dataframe tbody tr th:only-of-type {\n",
       "        vertical-align: middle;\n",
       "    }\n",
       "\n",
       "    .dataframe tbody tr th {\n",
       "        vertical-align: top;\n",
       "    }\n",
       "\n",
       "    .dataframe thead th {\n",
       "        text-align: right;\n",
       "    }\n",
       "</style>\n",
       "<table border=\"1\" class=\"dataframe\">\n",
       "  <thead>\n",
       "    <tr style=\"text-align: right;\">\n",
       "      <th></th>\n",
       "      <th>A</th>\n",
       "      <th>B</th>\n",
       "      <th>C</th>\n",
       "      <th>D</th>\n",
       "      <th>E</th>\n",
       "      <th>F</th>\n",
       "    </tr>\n",
       "  </thead>\n",
       "  <tbody>\n",
       "    <tr>\n",
       "      <th>1</th>\n",
       "      <td>0.913668</td>\n",
       "      <td>-0.784681</td>\n",
       "      <td>-1.280079</td>\n",
       "      <td>0.453169</td>\n",
       "      <td>0.538182</td>\n",
       "      <td>0.128988</td>\n",
       "    </tr>\n",
       "    <tr>\n",
       "      <th>2</th>\n",
       "      <td>-0.548434</td>\n",
       "      <td>-0.269612</td>\n",
       "      <td>-0.776509</td>\n",
       "      <td>-0.120699</td>\n",
       "      <td>-0.454400</td>\n",
       "      <td>-0.818045</td>\n",
       "    </tr>\n",
       "    <tr>\n",
       "      <th>3</th>\n",
       "      <td>0.710297</td>\n",
       "      <td>-0.649172</td>\n",
       "      <td>-0.056867</td>\n",
       "      <td>0.482628</td>\n",
       "      <td>-0.778616</td>\n",
       "      <td>0.061125</td>\n",
       "    </tr>\n",
       "    <tr>\n",
       "      <th>4</th>\n",
       "      <td>-0.579512</td>\n",
       "      <td>0.551059</td>\n",
       "      <td>-1.241567</td>\n",
       "      <td>0.921067</td>\n",
       "      <td>-0.750316</td>\n",
       "      <td>-0.028454</td>\n",
       "    </tr>\n",
       "    <tr>\n",
       "      <th>5</th>\n",
       "      <td>1.396336</td>\n",
       "      <td>-0.595659</td>\n",
       "      <td>-0.090335</td>\n",
       "      <td>0.048473</td>\n",
       "      <td>-0.240667</td>\n",
       "      <td>0.800676</td>\n",
       "    </tr>\n",
       "  </tbody>\n",
       "</table>\n",
       "</div>"
      ],
      "text/plain": [
       "          A         B         C         D         E         F\n",
       "1  0.913668 -0.784681 -1.280079  0.453169  0.538182  0.128988\n",
       "2 -0.548434 -0.269612 -0.776509 -0.120699 -0.454400 -0.818045\n",
       "3  0.710297 -0.649172 -0.056867  0.482628 -0.778616  0.061125\n",
       "4 -0.579512  0.551059 -1.241567  0.921067 -0.750316 -0.028454\n",
       "5  1.396336 -0.595659 -0.090335  0.048473 -0.240667  0.800676"
      ]
     },
     "execution_count": 160,
     "metadata": {},
     "output_type": "execute_result"
    }
   ],
   "source": [
    "df"
   ]
  },
  {
   "cell_type": "code",
   "execution_count": 161,
   "id": "519c58f0",
   "metadata": {},
   "outputs": [
    {
     "data": {
      "text/html": [
       "<div>\n",
       "<style scoped>\n",
       "    .dataframe tbody tr th:only-of-type {\n",
       "        vertical-align: middle;\n",
       "    }\n",
       "\n",
       "    .dataframe tbody tr th {\n",
       "        vertical-align: top;\n",
       "    }\n",
       "\n",
       "    .dataframe thead th {\n",
       "        text-align: right;\n",
       "    }\n",
       "</style>\n",
       "<table border=\"1\" class=\"dataframe\">\n",
       "  <thead>\n",
       "    <tr style=\"text-align: right;\">\n",
       "      <th></th>\n",
       "      <th>A</th>\n",
       "      <th>B</th>\n",
       "      <th>C</th>\n",
       "      <th>D</th>\n",
       "      <th>E</th>\n",
       "    </tr>\n",
       "  </thead>\n",
       "  <tbody>\n",
       "    <tr>\n",
       "      <th>1</th>\n",
       "      <td>0.913668</td>\n",
       "      <td>-0.784681</td>\n",
       "      <td>-1.280079</td>\n",
       "      <td>0.453169</td>\n",
       "      <td>0.538182</td>\n",
       "    </tr>\n",
       "    <tr>\n",
       "      <th>2</th>\n",
       "      <td>-0.548434</td>\n",
       "      <td>-0.269612</td>\n",
       "      <td>-0.776509</td>\n",
       "      <td>-0.120699</td>\n",
       "      <td>-0.454400</td>\n",
       "    </tr>\n",
       "    <tr>\n",
       "      <th>3</th>\n",
       "      <td>0.710297</td>\n",
       "      <td>-0.649172</td>\n",
       "      <td>-0.056867</td>\n",
       "      <td>0.482628</td>\n",
       "      <td>-0.778616</td>\n",
       "    </tr>\n",
       "    <tr>\n",
       "      <th>4</th>\n",
       "      <td>-0.579512</td>\n",
       "      <td>0.551059</td>\n",
       "      <td>-1.241567</td>\n",
       "      <td>0.921067</td>\n",
       "      <td>-0.750316</td>\n",
       "    </tr>\n",
       "    <tr>\n",
       "      <th>5</th>\n",
       "      <td>1.396336</td>\n",
       "      <td>-0.595659</td>\n",
       "      <td>-0.090335</td>\n",
       "      <td>0.048473</td>\n",
       "      <td>-0.240667</td>\n",
       "    </tr>\n",
       "  </tbody>\n",
       "</table>\n",
       "</div>"
      ],
      "text/plain": [
       "          A         B         C         D         E\n",
       "1  0.913668 -0.784681 -1.280079  0.453169  0.538182\n",
       "2 -0.548434 -0.269612 -0.776509 -0.120699 -0.454400\n",
       "3  0.710297 -0.649172 -0.056867  0.482628 -0.778616\n",
       "4 -0.579512  0.551059 -1.241567  0.921067 -0.750316\n",
       "5  1.396336 -0.595659 -0.090335  0.048473 -0.240667"
      ]
     },
     "execution_count": 161,
     "metadata": {},
     "output_type": "execute_result"
    }
   ],
   "source": [
    "df.drop('F',axis = 1)"
   ]
  },
  {
   "cell_type": "code",
   "execution_count": 162,
   "id": "c5c34330",
   "metadata": {},
   "outputs": [
    {
     "data": {
      "text/html": [
       "<div>\n",
       "<style scoped>\n",
       "    .dataframe tbody tr th:only-of-type {\n",
       "        vertical-align: middle;\n",
       "    }\n",
       "\n",
       "    .dataframe tbody tr th {\n",
       "        vertical-align: top;\n",
       "    }\n",
       "\n",
       "    .dataframe thead th {\n",
       "        text-align: right;\n",
       "    }\n",
       "</style>\n",
       "<table border=\"1\" class=\"dataframe\">\n",
       "  <thead>\n",
       "    <tr style=\"text-align: right;\">\n",
       "      <th></th>\n",
       "      <th>A</th>\n",
       "      <th>B</th>\n",
       "      <th>C</th>\n",
       "      <th>D</th>\n",
       "      <th>E</th>\n",
       "      <th>F</th>\n",
       "    </tr>\n",
       "  </thead>\n",
       "  <tbody>\n",
       "    <tr>\n",
       "      <th>1</th>\n",
       "      <td>0.913668</td>\n",
       "      <td>-0.784681</td>\n",
       "      <td>-1.280079</td>\n",
       "      <td>0.453169</td>\n",
       "      <td>0.538182</td>\n",
       "      <td>0.128988</td>\n",
       "    </tr>\n",
       "    <tr>\n",
       "      <th>2</th>\n",
       "      <td>-0.548434</td>\n",
       "      <td>-0.269612</td>\n",
       "      <td>-0.776509</td>\n",
       "      <td>-0.120699</td>\n",
       "      <td>-0.454400</td>\n",
       "      <td>-0.818045</td>\n",
       "    </tr>\n",
       "    <tr>\n",
       "      <th>3</th>\n",
       "      <td>0.710297</td>\n",
       "      <td>-0.649172</td>\n",
       "      <td>-0.056867</td>\n",
       "      <td>0.482628</td>\n",
       "      <td>-0.778616</td>\n",
       "      <td>0.061125</td>\n",
       "    </tr>\n",
       "    <tr>\n",
       "      <th>4</th>\n",
       "      <td>-0.579512</td>\n",
       "      <td>0.551059</td>\n",
       "      <td>-1.241567</td>\n",
       "      <td>0.921067</td>\n",
       "      <td>-0.750316</td>\n",
       "      <td>-0.028454</td>\n",
       "    </tr>\n",
       "    <tr>\n",
       "      <th>5</th>\n",
       "      <td>1.396336</td>\n",
       "      <td>-0.595659</td>\n",
       "      <td>-0.090335</td>\n",
       "      <td>0.048473</td>\n",
       "      <td>-0.240667</td>\n",
       "      <td>0.800676</td>\n",
       "    </tr>\n",
       "  </tbody>\n",
       "</table>\n",
       "</div>"
      ],
      "text/plain": [
       "          A         B         C         D         E         F\n",
       "1  0.913668 -0.784681 -1.280079  0.453169  0.538182  0.128988\n",
       "2 -0.548434 -0.269612 -0.776509 -0.120699 -0.454400 -0.818045\n",
       "3  0.710297 -0.649172 -0.056867  0.482628 -0.778616  0.061125\n",
       "4 -0.579512  0.551059 -1.241567  0.921067 -0.750316 -0.028454\n",
       "5  1.396336 -0.595659 -0.090335  0.048473 -0.240667  0.800676"
      ]
     },
     "execution_count": 162,
     "metadata": {},
     "output_type": "execute_result"
    }
   ],
   "source": [
    "df"
   ]
  },
  {
   "cell_type": "code",
   "execution_count": 163,
   "id": "4b57e409",
   "metadata": {},
   "outputs": [],
   "source": [
    "df.drop('F',axis = 1, inplace = True)"
   ]
  },
  {
   "cell_type": "code",
   "execution_count": 164,
   "id": "ae848877",
   "metadata": {},
   "outputs": [
    {
     "data": {
      "text/html": [
       "<div>\n",
       "<style scoped>\n",
       "    .dataframe tbody tr th:only-of-type {\n",
       "        vertical-align: middle;\n",
       "    }\n",
       "\n",
       "    .dataframe tbody tr th {\n",
       "        vertical-align: top;\n",
       "    }\n",
       "\n",
       "    .dataframe thead th {\n",
       "        text-align: right;\n",
       "    }\n",
       "</style>\n",
       "<table border=\"1\" class=\"dataframe\">\n",
       "  <thead>\n",
       "    <tr style=\"text-align: right;\">\n",
       "      <th></th>\n",
       "      <th>A</th>\n",
       "      <th>B</th>\n",
       "      <th>C</th>\n",
       "      <th>D</th>\n",
       "      <th>E</th>\n",
       "    </tr>\n",
       "  </thead>\n",
       "  <tbody>\n",
       "    <tr>\n",
       "      <th>1</th>\n",
       "      <td>0.913668</td>\n",
       "      <td>-0.784681</td>\n",
       "      <td>-1.280079</td>\n",
       "      <td>0.453169</td>\n",
       "      <td>0.538182</td>\n",
       "    </tr>\n",
       "    <tr>\n",
       "      <th>2</th>\n",
       "      <td>-0.548434</td>\n",
       "      <td>-0.269612</td>\n",
       "      <td>-0.776509</td>\n",
       "      <td>-0.120699</td>\n",
       "      <td>-0.454400</td>\n",
       "    </tr>\n",
       "    <tr>\n",
       "      <th>3</th>\n",
       "      <td>0.710297</td>\n",
       "      <td>-0.649172</td>\n",
       "      <td>-0.056867</td>\n",
       "      <td>0.482628</td>\n",
       "      <td>-0.778616</td>\n",
       "    </tr>\n",
       "    <tr>\n",
       "      <th>4</th>\n",
       "      <td>-0.579512</td>\n",
       "      <td>0.551059</td>\n",
       "      <td>-1.241567</td>\n",
       "      <td>0.921067</td>\n",
       "      <td>-0.750316</td>\n",
       "    </tr>\n",
       "    <tr>\n",
       "      <th>5</th>\n",
       "      <td>1.396336</td>\n",
       "      <td>-0.595659</td>\n",
       "      <td>-0.090335</td>\n",
       "      <td>0.048473</td>\n",
       "      <td>-0.240667</td>\n",
       "    </tr>\n",
       "  </tbody>\n",
       "</table>\n",
       "</div>"
      ],
      "text/plain": [
       "          A         B         C         D         E\n",
       "1  0.913668 -0.784681 -1.280079  0.453169  0.538182\n",
       "2 -0.548434 -0.269612 -0.776509 -0.120699 -0.454400\n",
       "3  0.710297 -0.649172 -0.056867  0.482628 -0.778616\n",
       "4 -0.579512  0.551059 -1.241567  0.921067 -0.750316\n",
       "5  1.396336 -0.595659 -0.090335  0.048473 -0.240667"
      ]
     },
     "execution_count": 164,
     "metadata": {},
     "output_type": "execute_result"
    }
   ],
   "source": [
    "df"
   ]
  },
  {
   "cell_type": "code",
   "execution_count": 165,
   "id": "ab9cefca",
   "metadata": {},
   "outputs": [
    {
     "data": {
      "text/plain": [
       "A    0.710297\n",
       "B   -0.649172\n",
       "C   -0.056867\n",
       "D    0.482628\n",
       "E   -0.778616\n",
       "Name: 3, dtype: float64"
      ]
     },
     "execution_count": 165,
     "metadata": {},
     "output_type": "execute_result"
    }
   ],
   "source": [
    "df.loc['3']"
   ]
  },
  {
   "cell_type": "code",
   "execution_count": 166,
   "id": "722dd9b4",
   "metadata": {},
   "outputs": [
    {
     "data": {
      "text/plain": [
       "A    0.710297\n",
       "B   -0.649172\n",
       "C   -0.056867\n",
       "D    0.482628\n",
       "E   -0.778616\n",
       "Name: 3, dtype: float64"
      ]
     },
     "execution_count": 166,
     "metadata": {},
     "output_type": "execute_result"
    }
   ],
   "source": [
    "df.iloc[2]"
   ]
  },
  {
   "cell_type": "code",
   "execution_count": 167,
   "id": "b2e67c24",
   "metadata": {},
   "outputs": [
    {
     "data": {
      "text/html": [
       "<div>\n",
       "<style scoped>\n",
       "    .dataframe tbody tr th:only-of-type {\n",
       "        vertical-align: middle;\n",
       "    }\n",
       "\n",
       "    .dataframe tbody tr th {\n",
       "        vertical-align: top;\n",
       "    }\n",
       "\n",
       "    .dataframe thead th {\n",
       "        text-align: right;\n",
       "    }\n",
       "</style>\n",
       "<table border=\"1\" class=\"dataframe\">\n",
       "  <thead>\n",
       "    <tr style=\"text-align: right;\">\n",
       "      <th></th>\n",
       "      <th>A</th>\n",
       "      <th>B</th>\n",
       "    </tr>\n",
       "  </thead>\n",
       "  <tbody>\n",
       "    <tr>\n",
       "      <th>1</th>\n",
       "      <td>0.913668</td>\n",
       "      <td>-0.784681</td>\n",
       "    </tr>\n",
       "    <tr>\n",
       "      <th>2</th>\n",
       "      <td>-0.548434</td>\n",
       "      <td>-0.269612</td>\n",
       "    </tr>\n",
       "  </tbody>\n",
       "</table>\n",
       "</div>"
      ],
      "text/plain": [
       "          A         B\n",
       "1  0.913668 -0.784681\n",
       "2 -0.548434 -0.269612"
      ]
     },
     "execution_count": 167,
     "metadata": {},
     "output_type": "execute_result"
    }
   ],
   "source": [
    "df.loc[['1','2'],['A','B']]\n"
   ]
  },
  {
   "cell_type": "code",
   "execution_count": 168,
   "id": "0685f43a",
   "metadata": {},
   "outputs": [
    {
     "data": {
      "text/html": [
       "<div>\n",
       "<style scoped>\n",
       "    .dataframe tbody tr th:only-of-type {\n",
       "        vertical-align: middle;\n",
       "    }\n",
       "\n",
       "    .dataframe tbody tr th {\n",
       "        vertical-align: top;\n",
       "    }\n",
       "\n",
       "    .dataframe thead th {\n",
       "        text-align: right;\n",
       "    }\n",
       "</style>\n",
       "<table border=\"1\" class=\"dataframe\">\n",
       "  <thead>\n",
       "    <tr style=\"text-align: right;\">\n",
       "      <th></th>\n",
       "      <th>A</th>\n",
       "      <th>B</th>\n",
       "      <th>C</th>\n",
       "      <th>D</th>\n",
       "      <th>E</th>\n",
       "    </tr>\n",
       "  </thead>\n",
       "  <tbody>\n",
       "    <tr>\n",
       "      <th>1</th>\n",
       "      <td>True</td>\n",
       "      <td>False</td>\n",
       "      <td>False</td>\n",
       "      <td>True</td>\n",
       "      <td>True</td>\n",
       "    </tr>\n",
       "    <tr>\n",
       "      <th>2</th>\n",
       "      <td>False</td>\n",
       "      <td>False</td>\n",
       "      <td>False</td>\n",
       "      <td>False</td>\n",
       "      <td>False</td>\n",
       "    </tr>\n",
       "    <tr>\n",
       "      <th>3</th>\n",
       "      <td>True</td>\n",
       "      <td>False</td>\n",
       "      <td>False</td>\n",
       "      <td>True</td>\n",
       "      <td>False</td>\n",
       "    </tr>\n",
       "    <tr>\n",
       "      <th>4</th>\n",
       "      <td>False</td>\n",
       "      <td>True</td>\n",
       "      <td>False</td>\n",
       "      <td>True</td>\n",
       "      <td>False</td>\n",
       "    </tr>\n",
       "    <tr>\n",
       "      <th>5</th>\n",
       "      <td>True</td>\n",
       "      <td>False</td>\n",
       "      <td>False</td>\n",
       "      <td>True</td>\n",
       "      <td>False</td>\n",
       "    </tr>\n",
       "  </tbody>\n",
       "</table>\n",
       "</div>"
      ],
      "text/plain": [
       "       A      B      C      D      E\n",
       "1   True  False  False   True   True\n",
       "2  False  False  False  False  False\n",
       "3   True  False  False   True  False\n",
       "4  False   True  False   True  False\n",
       "5   True  False  False   True  False"
      ]
     },
     "execution_count": 168,
     "metadata": {},
     "output_type": "execute_result"
    }
   ],
   "source": [
    "df >0"
   ]
  },
  {
   "cell_type": "code",
   "execution_count": 169,
   "id": "740f4297",
   "metadata": {},
   "outputs": [
    {
     "data": {
      "text/html": [
       "<div>\n",
       "<style scoped>\n",
       "    .dataframe tbody tr th:only-of-type {\n",
       "        vertical-align: middle;\n",
       "    }\n",
       "\n",
       "    .dataframe tbody tr th {\n",
       "        vertical-align: top;\n",
       "    }\n",
       "\n",
       "    .dataframe thead th {\n",
       "        text-align: right;\n",
       "    }\n",
       "</style>\n",
       "<table border=\"1\" class=\"dataframe\">\n",
       "  <thead>\n",
       "    <tr style=\"text-align: right;\">\n",
       "      <th></th>\n",
       "      <th>A</th>\n",
       "      <th>B</th>\n",
       "      <th>C</th>\n",
       "      <th>D</th>\n",
       "      <th>E</th>\n",
       "    </tr>\n",
       "  </thead>\n",
       "  <tbody>\n",
       "    <tr>\n",
       "      <th>1</th>\n",
       "      <td>False</td>\n",
       "      <td>True</td>\n",
       "      <td>True</td>\n",
       "      <td>False</td>\n",
       "      <td>False</td>\n",
       "    </tr>\n",
       "    <tr>\n",
       "      <th>2</th>\n",
       "      <td>True</td>\n",
       "      <td>True</td>\n",
       "      <td>True</td>\n",
       "      <td>True</td>\n",
       "      <td>True</td>\n",
       "    </tr>\n",
       "    <tr>\n",
       "      <th>3</th>\n",
       "      <td>False</td>\n",
       "      <td>True</td>\n",
       "      <td>True</td>\n",
       "      <td>False</td>\n",
       "      <td>True</td>\n",
       "    </tr>\n",
       "    <tr>\n",
       "      <th>4</th>\n",
       "      <td>True</td>\n",
       "      <td>False</td>\n",
       "      <td>True</td>\n",
       "      <td>False</td>\n",
       "      <td>True</td>\n",
       "    </tr>\n",
       "    <tr>\n",
       "      <th>5</th>\n",
       "      <td>False</td>\n",
       "      <td>True</td>\n",
       "      <td>True</td>\n",
       "      <td>False</td>\n",
       "      <td>True</td>\n",
       "    </tr>\n",
       "  </tbody>\n",
       "</table>\n",
       "</div>"
      ],
      "text/plain": [
       "       A      B     C      D      E\n",
       "1  False   True  True  False  False\n",
       "2   True   True  True   True   True\n",
       "3  False   True  True  False   True\n",
       "4   True  False  True  False   True\n",
       "5  False   True  True  False   True"
      ]
     },
     "execution_count": 169,
     "metadata": {},
     "output_type": "execute_result"
    }
   ],
   "source": [
    "df < 0"
   ]
  },
  {
   "cell_type": "code",
   "execution_count": 170,
   "id": "926728c9",
   "metadata": {},
   "outputs": [
    {
     "data": {
      "text/html": [
       "<div>\n",
       "<style scoped>\n",
       "    .dataframe tbody tr th:only-of-type {\n",
       "        vertical-align: middle;\n",
       "    }\n",
       "\n",
       "    .dataframe tbody tr th {\n",
       "        vertical-align: top;\n",
       "    }\n",
       "\n",
       "    .dataframe thead th {\n",
       "        text-align: right;\n",
       "    }\n",
       "</style>\n",
       "<table border=\"1\" class=\"dataframe\">\n",
       "  <thead>\n",
       "    <tr style=\"text-align: right;\">\n",
       "      <th></th>\n",
       "      <th>A</th>\n",
       "      <th>B</th>\n",
       "      <th>C</th>\n",
       "      <th>D</th>\n",
       "      <th>E</th>\n",
       "    </tr>\n",
       "  </thead>\n",
       "  <tbody>\n",
       "    <tr>\n",
       "      <th>1</th>\n",
       "      <td>False</td>\n",
       "      <td>False</td>\n",
       "      <td>False</td>\n",
       "      <td>False</td>\n",
       "      <td>False</td>\n",
       "    </tr>\n",
       "    <tr>\n",
       "      <th>2</th>\n",
       "      <td>False</td>\n",
       "      <td>False</td>\n",
       "      <td>False</td>\n",
       "      <td>False</td>\n",
       "      <td>False</td>\n",
       "    </tr>\n",
       "    <tr>\n",
       "      <th>3</th>\n",
       "      <td>False</td>\n",
       "      <td>False</td>\n",
       "      <td>False</td>\n",
       "      <td>False</td>\n",
       "      <td>False</td>\n",
       "    </tr>\n",
       "    <tr>\n",
       "      <th>4</th>\n",
       "      <td>False</td>\n",
       "      <td>False</td>\n",
       "      <td>False</td>\n",
       "      <td>False</td>\n",
       "      <td>False</td>\n",
       "    </tr>\n",
       "    <tr>\n",
       "      <th>5</th>\n",
       "      <td>True</td>\n",
       "      <td>False</td>\n",
       "      <td>False</td>\n",
       "      <td>False</td>\n",
       "      <td>False</td>\n",
       "    </tr>\n",
       "  </tbody>\n",
       "</table>\n",
       "</div>"
      ],
      "text/plain": [
       "       A      B      C      D      E\n",
       "1  False  False  False  False  False\n",
       "2  False  False  False  False  False\n",
       "3  False  False  False  False  False\n",
       "4  False  False  False  False  False\n",
       "5   True  False  False  False  False"
      ]
     },
     "execution_count": 170,
     "metadata": {},
     "output_type": "execute_result"
    }
   ],
   "source": [
    "df > 1"
   ]
  },
  {
   "cell_type": "code",
   "execution_count": 171,
   "id": "6b3c368d",
   "metadata": {},
   "outputs": [
    {
     "data": {
      "text/html": [
       "<div>\n",
       "<style scoped>\n",
       "    .dataframe tbody tr th:only-of-type {\n",
       "        vertical-align: middle;\n",
       "    }\n",
       "\n",
       "    .dataframe tbody tr th {\n",
       "        vertical-align: top;\n",
       "    }\n",
       "\n",
       "    .dataframe thead th {\n",
       "        text-align: right;\n",
       "    }\n",
       "</style>\n",
       "<table border=\"1\" class=\"dataframe\">\n",
       "  <thead>\n",
       "    <tr style=\"text-align: right;\">\n",
       "      <th></th>\n",
       "      <th>A</th>\n",
       "      <th>B</th>\n",
       "      <th>C</th>\n",
       "      <th>D</th>\n",
       "      <th>E</th>\n",
       "    </tr>\n",
       "  </thead>\n",
       "  <tbody>\n",
       "    <tr>\n",
       "      <th>1</th>\n",
       "      <td>0.913668</td>\n",
       "      <td>NaN</td>\n",
       "      <td>NaN</td>\n",
       "      <td>0.453169</td>\n",
       "      <td>0.538182</td>\n",
       "    </tr>\n",
       "    <tr>\n",
       "      <th>2</th>\n",
       "      <td>NaN</td>\n",
       "      <td>NaN</td>\n",
       "      <td>NaN</td>\n",
       "      <td>NaN</td>\n",
       "      <td>NaN</td>\n",
       "    </tr>\n",
       "    <tr>\n",
       "      <th>3</th>\n",
       "      <td>0.710297</td>\n",
       "      <td>NaN</td>\n",
       "      <td>NaN</td>\n",
       "      <td>0.482628</td>\n",
       "      <td>NaN</td>\n",
       "    </tr>\n",
       "    <tr>\n",
       "      <th>4</th>\n",
       "      <td>NaN</td>\n",
       "      <td>0.551059</td>\n",
       "      <td>NaN</td>\n",
       "      <td>0.921067</td>\n",
       "      <td>NaN</td>\n",
       "    </tr>\n",
       "    <tr>\n",
       "      <th>5</th>\n",
       "      <td>1.396336</td>\n",
       "      <td>NaN</td>\n",
       "      <td>NaN</td>\n",
       "      <td>0.048473</td>\n",
       "      <td>NaN</td>\n",
       "    </tr>\n",
       "  </tbody>\n",
       "</table>\n",
       "</div>"
      ],
      "text/plain": [
       "          A         B   C         D         E\n",
       "1  0.913668       NaN NaN  0.453169  0.538182\n",
       "2       NaN       NaN NaN       NaN       NaN\n",
       "3  0.710297       NaN NaN  0.482628       NaN\n",
       "4       NaN  0.551059 NaN  0.921067       NaN\n",
       "5  1.396336       NaN NaN  0.048473       NaN"
      ]
     },
     "execution_count": 171,
     "metadata": {},
     "output_type": "execute_result"
    }
   ],
   "source": [
    "df[df>0]"
   ]
  },
  {
   "cell_type": "code",
   "execution_count": 172,
   "id": "acf435c9",
   "metadata": {},
   "outputs": [
    {
     "data": {
      "text/html": [
       "<div>\n",
       "<style scoped>\n",
       "    .dataframe tbody tr th:only-of-type {\n",
       "        vertical-align: middle;\n",
       "    }\n",
       "\n",
       "    .dataframe tbody tr th {\n",
       "        vertical-align: top;\n",
       "    }\n",
       "\n",
       "    .dataframe thead th {\n",
       "        text-align: right;\n",
       "    }\n",
       "</style>\n",
       "<table border=\"1\" class=\"dataframe\">\n",
       "  <thead>\n",
       "    <tr style=\"text-align: right;\">\n",
       "      <th></th>\n",
       "      <th>A</th>\n",
       "      <th>B</th>\n",
       "      <th>C</th>\n",
       "      <th>D</th>\n",
       "      <th>E</th>\n",
       "    </tr>\n",
       "  </thead>\n",
       "  <tbody>\n",
       "    <tr>\n",
       "      <th>1</th>\n",
       "      <td>0.913668</td>\n",
       "      <td>-0.784681</td>\n",
       "      <td>-1.280079</td>\n",
       "      <td>0.453169</td>\n",
       "      <td>0.538182</td>\n",
       "    </tr>\n",
       "    <tr>\n",
       "      <th>3</th>\n",
       "      <td>0.710297</td>\n",
       "      <td>-0.649172</td>\n",
       "      <td>-0.056867</td>\n",
       "      <td>0.482628</td>\n",
       "      <td>-0.778616</td>\n",
       "    </tr>\n",
       "    <tr>\n",
       "      <th>5</th>\n",
       "      <td>1.396336</td>\n",
       "      <td>-0.595659</td>\n",
       "      <td>-0.090335</td>\n",
       "      <td>0.048473</td>\n",
       "      <td>-0.240667</td>\n",
       "    </tr>\n",
       "  </tbody>\n",
       "</table>\n",
       "</div>"
      ],
      "text/plain": [
       "          A         B         C         D         E\n",
       "1  0.913668 -0.784681 -1.280079  0.453169  0.538182\n",
       "3  0.710297 -0.649172 -0.056867  0.482628 -0.778616\n",
       "5  1.396336 -0.595659 -0.090335  0.048473 -0.240667"
      ]
     },
     "execution_count": 172,
     "metadata": {},
     "output_type": "execute_result"
    }
   ],
   "source": [
    "df[df['A'] > 0]"
   ]
  },
  {
   "cell_type": "code",
   "execution_count": 173,
   "id": "53c8f3a2",
   "metadata": {},
   "outputs": [
    {
     "data": {
      "text/html": [
       "<div>\n",
       "<style scoped>\n",
       "    .dataframe tbody tr th:only-of-type {\n",
       "        vertical-align: middle;\n",
       "    }\n",
       "\n",
       "    .dataframe tbody tr th {\n",
       "        vertical-align: top;\n",
       "    }\n",
       "\n",
       "    .dataframe thead th {\n",
       "        text-align: right;\n",
       "    }\n",
       "</style>\n",
       "<table border=\"1\" class=\"dataframe\">\n",
       "  <thead>\n",
       "    <tr style=\"text-align: right;\">\n",
       "      <th></th>\n",
       "      <th>A</th>\n",
       "      <th>B</th>\n",
       "      <th>C</th>\n",
       "      <th>D</th>\n",
       "      <th>E</th>\n",
       "    </tr>\n",
       "  </thead>\n",
       "  <tbody>\n",
       "    <tr>\n",
       "      <th>1</th>\n",
       "      <td>0.913668</td>\n",
       "      <td>-0.784681</td>\n",
       "      <td>-1.280079</td>\n",
       "      <td>0.453169</td>\n",
       "      <td>0.538182</td>\n",
       "    </tr>\n",
       "    <tr>\n",
       "      <th>2</th>\n",
       "      <td>-0.548434</td>\n",
       "      <td>-0.269612</td>\n",
       "      <td>-0.776509</td>\n",
       "      <td>-0.120699</td>\n",
       "      <td>-0.454400</td>\n",
       "    </tr>\n",
       "    <tr>\n",
       "      <th>3</th>\n",
       "      <td>0.710297</td>\n",
       "      <td>-0.649172</td>\n",
       "      <td>-0.056867</td>\n",
       "      <td>0.482628</td>\n",
       "      <td>-0.778616</td>\n",
       "    </tr>\n",
       "    <tr>\n",
       "      <th>4</th>\n",
       "      <td>-0.579512</td>\n",
       "      <td>0.551059</td>\n",
       "      <td>-1.241567</td>\n",
       "      <td>0.921067</td>\n",
       "      <td>-0.750316</td>\n",
       "    </tr>\n",
       "    <tr>\n",
       "      <th>5</th>\n",
       "      <td>1.396336</td>\n",
       "      <td>-0.595659</td>\n",
       "      <td>-0.090335</td>\n",
       "      <td>0.048473</td>\n",
       "      <td>-0.240667</td>\n",
       "    </tr>\n",
       "  </tbody>\n",
       "</table>\n",
       "</div>"
      ],
      "text/plain": [
       "          A         B         C         D         E\n",
       "1  0.913668 -0.784681 -1.280079  0.453169  0.538182\n",
       "2 -0.548434 -0.269612 -0.776509 -0.120699 -0.454400\n",
       "3  0.710297 -0.649172 -0.056867  0.482628 -0.778616\n",
       "4 -0.579512  0.551059 -1.241567  0.921067 -0.750316\n",
       "5  1.396336 -0.595659 -0.090335  0.048473 -0.240667"
      ]
     },
     "execution_count": 173,
     "metadata": {},
     "output_type": "execute_result"
    }
   ],
   "source": [
    "df.interpolate()"
   ]
  },
  {
   "cell_type": "code",
   "execution_count": 174,
   "id": "a33e8856",
   "metadata": {},
   "outputs": [
    {
     "data": {
      "text/html": [
       "<div>\n",
       "<style scoped>\n",
       "    .dataframe tbody tr th:only-of-type {\n",
       "        vertical-align: middle;\n",
       "    }\n",
       "\n",
       "    .dataframe tbody tr th {\n",
       "        vertical-align: top;\n",
       "    }\n",
       "\n",
       "    .dataframe thead th {\n",
       "        text-align: right;\n",
       "    }\n",
       "</style>\n",
       "<table border=\"1\" class=\"dataframe\">\n",
       "  <thead>\n",
       "    <tr style=\"text-align: right;\">\n",
       "      <th></th>\n",
       "      <th>A</th>\n",
       "      <th>B</th>\n",
       "      <th>C</th>\n",
       "      <th>D</th>\n",
       "      <th>E</th>\n",
       "    </tr>\n",
       "  </thead>\n",
       "  <tbody>\n",
       "    <tr>\n",
       "      <th>1</th>\n",
       "      <td>0.913668</td>\n",
       "      <td>-0.784681</td>\n",
       "      <td>-1.280079</td>\n",
       "      <td>0.453169</td>\n",
       "      <td>0.538182</td>\n",
       "    </tr>\n",
       "    <tr>\n",
       "      <th>3</th>\n",
       "      <td>0.710297</td>\n",
       "      <td>-0.649172</td>\n",
       "      <td>-0.056867</td>\n",
       "      <td>0.482628</td>\n",
       "      <td>-0.778616</td>\n",
       "    </tr>\n",
       "    <tr>\n",
       "      <th>5</th>\n",
       "      <td>1.396336</td>\n",
       "      <td>-0.595659</td>\n",
       "      <td>-0.090335</td>\n",
       "      <td>0.048473</td>\n",
       "      <td>-0.240667</td>\n",
       "    </tr>\n",
       "  </tbody>\n",
       "</table>\n",
       "</div>"
      ],
      "text/plain": [
       "          A         B         C         D         E\n",
       "1  0.913668 -0.784681 -1.280079  0.453169  0.538182\n",
       "3  0.710297 -0.649172 -0.056867  0.482628 -0.778616\n",
       "5  1.396336 -0.595659 -0.090335  0.048473 -0.240667"
      ]
     },
     "execution_count": 174,
     "metadata": {},
     "output_type": "execute_result"
    }
   ],
   "source": [
    "df [(df['A']>0) & (df['D']>0)]"
   ]
  },
  {
   "cell_type": "code",
   "execution_count": 178,
   "id": "064ddd4b",
   "metadata": {},
   "outputs": [],
   "source": [
    "A = df.reset_index()"
   ]
  },
  {
   "cell_type": "code",
   "execution_count": 176,
   "id": "c785b714",
   "metadata": {},
   "outputs": [
    {
     "data": {
      "text/html": [
       "<div>\n",
       "<style scoped>\n",
       "    .dataframe tbody tr th:only-of-type {\n",
       "        vertical-align: middle;\n",
       "    }\n",
       "\n",
       "    .dataframe tbody tr th {\n",
       "        vertical-align: top;\n",
       "    }\n",
       "\n",
       "    .dataframe thead th {\n",
       "        text-align: right;\n",
       "    }\n",
       "</style>\n",
       "<table border=\"1\" class=\"dataframe\">\n",
       "  <thead>\n",
       "    <tr style=\"text-align: right;\">\n",
       "      <th></th>\n",
       "      <th>A</th>\n",
       "      <th>B</th>\n",
       "      <th>C</th>\n",
       "      <th>D</th>\n",
       "      <th>E</th>\n",
       "    </tr>\n",
       "  </thead>\n",
       "  <tbody>\n",
       "    <tr>\n",
       "      <th>1</th>\n",
       "      <td>0.913668</td>\n",
       "      <td>-0.784681</td>\n",
       "      <td>-1.280079</td>\n",
       "      <td>0.453169</td>\n",
       "      <td>0.538182</td>\n",
       "    </tr>\n",
       "    <tr>\n",
       "      <th>2</th>\n",
       "      <td>-0.548434</td>\n",
       "      <td>-0.269612</td>\n",
       "      <td>-0.776509</td>\n",
       "      <td>-0.120699</td>\n",
       "      <td>-0.454400</td>\n",
       "    </tr>\n",
       "    <tr>\n",
       "      <th>3</th>\n",
       "      <td>0.710297</td>\n",
       "      <td>-0.649172</td>\n",
       "      <td>-0.056867</td>\n",
       "      <td>0.482628</td>\n",
       "      <td>-0.778616</td>\n",
       "    </tr>\n",
       "    <tr>\n",
       "      <th>4</th>\n",
       "      <td>-0.579512</td>\n",
       "      <td>0.551059</td>\n",
       "      <td>-1.241567</td>\n",
       "      <td>0.921067</td>\n",
       "      <td>-0.750316</td>\n",
       "    </tr>\n",
       "    <tr>\n",
       "      <th>5</th>\n",
       "      <td>1.396336</td>\n",
       "      <td>-0.595659</td>\n",
       "      <td>-0.090335</td>\n",
       "      <td>0.048473</td>\n",
       "      <td>-0.240667</td>\n",
       "    </tr>\n",
       "  </tbody>\n",
       "</table>\n",
       "</div>"
      ],
      "text/plain": [
       "          A         B         C         D         E\n",
       "1  0.913668 -0.784681 -1.280079  0.453169  0.538182\n",
       "2 -0.548434 -0.269612 -0.776509 -0.120699 -0.454400\n",
       "3  0.710297 -0.649172 -0.056867  0.482628 -0.778616\n",
       "4 -0.579512  0.551059 -1.241567  0.921067 -0.750316\n",
       "5  1.396336 -0.595659 -0.090335  0.048473 -0.240667"
      ]
     },
     "execution_count": 176,
     "metadata": {},
     "output_type": "execute_result"
    }
   ],
   "source": [
    "df"
   ]
  },
  {
   "cell_type": "code",
   "execution_count": 179,
   "id": "b34ffdf9",
   "metadata": {},
   "outputs": [
    {
     "data": {
      "text/html": [
       "<div>\n",
       "<style scoped>\n",
       "    .dataframe tbody tr th:only-of-type {\n",
       "        vertical-align: middle;\n",
       "    }\n",
       "\n",
       "    .dataframe tbody tr th {\n",
       "        vertical-align: top;\n",
       "    }\n",
       "\n",
       "    .dataframe thead th {\n",
       "        text-align: right;\n",
       "    }\n",
       "</style>\n",
       "<table border=\"1\" class=\"dataframe\">\n",
       "  <thead>\n",
       "    <tr style=\"text-align: right;\">\n",
       "      <th></th>\n",
       "      <th>index</th>\n",
       "      <th>A</th>\n",
       "      <th>B</th>\n",
       "      <th>C</th>\n",
       "      <th>D</th>\n",
       "      <th>E</th>\n",
       "    </tr>\n",
       "  </thead>\n",
       "  <tbody>\n",
       "    <tr>\n",
       "      <th>0</th>\n",
       "      <td>1</td>\n",
       "      <td>0.913668</td>\n",
       "      <td>-0.784681</td>\n",
       "      <td>-1.280079</td>\n",
       "      <td>0.453169</td>\n",
       "      <td>0.538182</td>\n",
       "    </tr>\n",
       "    <tr>\n",
       "      <th>1</th>\n",
       "      <td>2</td>\n",
       "      <td>-0.548434</td>\n",
       "      <td>-0.269612</td>\n",
       "      <td>-0.776509</td>\n",
       "      <td>-0.120699</td>\n",
       "      <td>-0.454400</td>\n",
       "    </tr>\n",
       "    <tr>\n",
       "      <th>2</th>\n",
       "      <td>3</td>\n",
       "      <td>0.710297</td>\n",
       "      <td>-0.649172</td>\n",
       "      <td>-0.056867</td>\n",
       "      <td>0.482628</td>\n",
       "      <td>-0.778616</td>\n",
       "    </tr>\n",
       "    <tr>\n",
       "      <th>3</th>\n",
       "      <td>4</td>\n",
       "      <td>-0.579512</td>\n",
       "      <td>0.551059</td>\n",
       "      <td>-1.241567</td>\n",
       "      <td>0.921067</td>\n",
       "      <td>-0.750316</td>\n",
       "    </tr>\n",
       "    <tr>\n",
       "      <th>4</th>\n",
       "      <td>5</td>\n",
       "      <td>1.396336</td>\n",
       "      <td>-0.595659</td>\n",
       "      <td>-0.090335</td>\n",
       "      <td>0.048473</td>\n",
       "      <td>-0.240667</td>\n",
       "    </tr>\n",
       "  </tbody>\n",
       "</table>\n",
       "</div>"
      ],
      "text/plain": [
       "  index         A         B         C         D         E\n",
       "0     1  0.913668 -0.784681 -1.280079  0.453169  0.538182\n",
       "1     2 -0.548434 -0.269612 -0.776509 -0.120699 -0.454400\n",
       "2     3  0.710297 -0.649172 -0.056867  0.482628 -0.778616\n",
       "3     4 -0.579512  0.551059 -1.241567  0.921067 -0.750316\n",
       "4     5  1.396336 -0.595659 -0.090335  0.048473 -0.240667"
      ]
     },
     "execution_count": 179,
     "metadata": {},
     "output_type": "execute_result"
    }
   ],
   "source": [
    "A"
   ]
  },
  {
   "cell_type": "code",
   "execution_count": 180,
   "id": "485e0ca6",
   "metadata": {},
   "outputs": [
    {
     "data": {
      "text/plain": [
       "['AA', 'BB', 'CC', 'DD', 'EE']"
      ]
     },
     "execution_count": 180,
     "metadata": {},
     "output_type": "execute_result"
    }
   ],
   "source": [
    "B= \"AA BB CC DD EE\".split()\n",
    "B"
   ]
  },
  {
   "cell_type": "code",
   "execution_count": 181,
   "id": "cdb81719",
   "metadata": {},
   "outputs": [],
   "source": [
    "df['index'] = B"
   ]
  },
  {
   "cell_type": "code",
   "execution_count": 182,
   "id": "dca02755",
   "metadata": {},
   "outputs": [
    {
     "data": {
      "text/html": [
       "<div>\n",
       "<style scoped>\n",
       "    .dataframe tbody tr th:only-of-type {\n",
       "        vertical-align: middle;\n",
       "    }\n",
       "\n",
       "    .dataframe tbody tr th {\n",
       "        vertical-align: top;\n",
       "    }\n",
       "\n",
       "    .dataframe thead th {\n",
       "        text-align: right;\n",
       "    }\n",
       "</style>\n",
       "<table border=\"1\" class=\"dataframe\">\n",
       "  <thead>\n",
       "    <tr style=\"text-align: right;\">\n",
       "      <th></th>\n",
       "      <th>A</th>\n",
       "      <th>B</th>\n",
       "      <th>C</th>\n",
       "      <th>D</th>\n",
       "      <th>E</th>\n",
       "      <th>index</th>\n",
       "    </tr>\n",
       "  </thead>\n",
       "  <tbody>\n",
       "    <tr>\n",
       "      <th>1</th>\n",
       "      <td>0.913668</td>\n",
       "      <td>-0.784681</td>\n",
       "      <td>-1.280079</td>\n",
       "      <td>0.453169</td>\n",
       "      <td>0.538182</td>\n",
       "      <td>AA</td>\n",
       "    </tr>\n",
       "    <tr>\n",
       "      <th>2</th>\n",
       "      <td>-0.548434</td>\n",
       "      <td>-0.269612</td>\n",
       "      <td>-0.776509</td>\n",
       "      <td>-0.120699</td>\n",
       "      <td>-0.454400</td>\n",
       "      <td>BB</td>\n",
       "    </tr>\n",
       "    <tr>\n",
       "      <th>3</th>\n",
       "      <td>0.710297</td>\n",
       "      <td>-0.649172</td>\n",
       "      <td>-0.056867</td>\n",
       "      <td>0.482628</td>\n",
       "      <td>-0.778616</td>\n",
       "      <td>CC</td>\n",
       "    </tr>\n",
       "    <tr>\n",
       "      <th>4</th>\n",
       "      <td>-0.579512</td>\n",
       "      <td>0.551059</td>\n",
       "      <td>-1.241567</td>\n",
       "      <td>0.921067</td>\n",
       "      <td>-0.750316</td>\n",
       "      <td>DD</td>\n",
       "    </tr>\n",
       "    <tr>\n",
       "      <th>5</th>\n",
       "      <td>1.396336</td>\n",
       "      <td>-0.595659</td>\n",
       "      <td>-0.090335</td>\n",
       "      <td>0.048473</td>\n",
       "      <td>-0.240667</td>\n",
       "      <td>EE</td>\n",
       "    </tr>\n",
       "  </tbody>\n",
       "</table>\n",
       "</div>"
      ],
      "text/plain": [
       "          A         B         C         D         E index\n",
       "1  0.913668 -0.784681 -1.280079  0.453169  0.538182    AA\n",
       "2 -0.548434 -0.269612 -0.776509 -0.120699 -0.454400    BB\n",
       "3  0.710297 -0.649172 -0.056867  0.482628 -0.778616    CC\n",
       "4 -0.579512  0.551059 -1.241567  0.921067 -0.750316    DD\n",
       "5  1.396336 -0.595659 -0.090335  0.048473 -0.240667    EE"
      ]
     },
     "execution_count": 182,
     "metadata": {},
     "output_type": "execute_result"
    }
   ],
   "source": [
    "df"
   ]
  },
  {
   "cell_type": "code",
   "execution_count": 183,
   "id": "0be0cc9e",
   "metadata": {},
   "outputs": [
    {
     "data": {
      "text/html": [
       "<div>\n",
       "<style scoped>\n",
       "    .dataframe tbody tr th:only-of-type {\n",
       "        vertical-align: middle;\n",
       "    }\n",
       "\n",
       "    .dataframe tbody tr th {\n",
       "        vertical-align: top;\n",
       "    }\n",
       "\n",
       "    .dataframe thead th {\n",
       "        text-align: right;\n",
       "    }\n",
       "</style>\n",
       "<table border=\"1\" class=\"dataframe\">\n",
       "  <thead>\n",
       "    <tr style=\"text-align: right;\">\n",
       "      <th></th>\n",
       "      <th>A</th>\n",
       "      <th>B</th>\n",
       "      <th>C</th>\n",
       "      <th>D</th>\n",
       "      <th>E</th>\n",
       "    </tr>\n",
       "    <tr>\n",
       "      <th>index</th>\n",
       "      <th></th>\n",
       "      <th></th>\n",
       "      <th></th>\n",
       "      <th></th>\n",
       "      <th></th>\n",
       "    </tr>\n",
       "  </thead>\n",
       "  <tbody>\n",
       "    <tr>\n",
       "      <th>AA</th>\n",
       "      <td>0.913668</td>\n",
       "      <td>-0.784681</td>\n",
       "      <td>-1.280079</td>\n",
       "      <td>0.453169</td>\n",
       "      <td>0.538182</td>\n",
       "    </tr>\n",
       "    <tr>\n",
       "      <th>BB</th>\n",
       "      <td>-0.548434</td>\n",
       "      <td>-0.269612</td>\n",
       "      <td>-0.776509</td>\n",
       "      <td>-0.120699</td>\n",
       "      <td>-0.454400</td>\n",
       "    </tr>\n",
       "    <tr>\n",
       "      <th>CC</th>\n",
       "      <td>0.710297</td>\n",
       "      <td>-0.649172</td>\n",
       "      <td>-0.056867</td>\n",
       "      <td>0.482628</td>\n",
       "      <td>-0.778616</td>\n",
       "    </tr>\n",
       "    <tr>\n",
       "      <th>DD</th>\n",
       "      <td>-0.579512</td>\n",
       "      <td>0.551059</td>\n",
       "      <td>-1.241567</td>\n",
       "      <td>0.921067</td>\n",
       "      <td>-0.750316</td>\n",
       "    </tr>\n",
       "    <tr>\n",
       "      <th>EE</th>\n",
       "      <td>1.396336</td>\n",
       "      <td>-0.595659</td>\n",
       "      <td>-0.090335</td>\n",
       "      <td>0.048473</td>\n",
       "      <td>-0.240667</td>\n",
       "    </tr>\n",
       "  </tbody>\n",
       "</table>\n",
       "</div>"
      ],
      "text/plain": [
       "              A         B         C         D         E\n",
       "index                                                  \n",
       "AA     0.913668 -0.784681 -1.280079  0.453169  0.538182\n",
       "BB    -0.548434 -0.269612 -0.776509 -0.120699 -0.454400\n",
       "CC     0.710297 -0.649172 -0.056867  0.482628 -0.778616\n",
       "DD    -0.579512  0.551059 -1.241567  0.921067 -0.750316\n",
       "EE     1.396336 -0.595659 -0.090335  0.048473 -0.240667"
      ]
     },
     "execution_count": 183,
     "metadata": {},
     "output_type": "execute_result"
    }
   ],
   "source": [
    "df.set_index(\"index\")"
   ]
  },
  {
   "cell_type": "markdown",
   "id": "a1165987",
   "metadata": {},
   "source": [
    "# Multi - Index and Index Hierarchy"
   ]
  },
  {
   "cell_type": "code",
   "execution_count": 191,
   "id": "7abe7003",
   "metadata": {},
   "outputs": [],
   "source": [
    "outside = ['G1','G1','G1','G2','G2','G2']\n",
    "inside = [1,2,3,1,2,3]\n",
    "hier_index = list(zip(outside,inside))\n",
    "hier_index = pd.MultiIndex.from_tuples(hier_index)"
   ]
  },
  {
   "cell_type": "code",
   "execution_count": 192,
   "id": "0e8853c0",
   "metadata": {},
   "outputs": [
    {
     "data": {
      "text/plain": [
       "MultiIndex([('G1', 1),\n",
       "            ('G1', 2),\n",
       "            ('G1', 3),\n",
       "            ('G2', 1),\n",
       "            ('G2', 2),\n",
       "            ('G2', 3)],\n",
       "           )"
      ]
     },
     "execution_count": 192,
     "metadata": {},
     "output_type": "execute_result"
    }
   ],
   "source": [
    "hier_index"
   ]
  },
  {
   "cell_type": "code",
   "execution_count": 195,
   "id": "85345210",
   "metadata": {},
   "outputs": [
    {
     "data": {
      "text/html": [
       "<div>\n",
       "<style scoped>\n",
       "    .dataframe tbody tr th:only-of-type {\n",
       "        vertical-align: middle;\n",
       "    }\n",
       "\n",
       "    .dataframe tbody tr th {\n",
       "        vertical-align: top;\n",
       "    }\n",
       "\n",
       "    .dataframe thead th {\n",
       "        text-align: right;\n",
       "    }\n",
       "</style>\n",
       "<table border=\"1\" class=\"dataframe\">\n",
       "  <thead>\n",
       "    <tr style=\"text-align: right;\">\n",
       "      <th></th>\n",
       "      <th></th>\n",
       "      <th>A</th>\n",
       "      <th>B</th>\n",
       "    </tr>\n",
       "  </thead>\n",
       "  <tbody>\n",
       "    <tr>\n",
       "      <th rowspan=\"3\" valign=\"top\">G1</th>\n",
       "      <th>1</th>\n",
       "      <td>0.005772</td>\n",
       "      <td>0.208362</td>\n",
       "    </tr>\n",
       "    <tr>\n",
       "      <th>2</th>\n",
       "      <td>0.030225</td>\n",
       "      <td>1.076249</td>\n",
       "    </tr>\n",
       "    <tr>\n",
       "      <th>3</th>\n",
       "      <td>-0.804916</td>\n",
       "      <td>0.578374</td>\n",
       "    </tr>\n",
       "    <tr>\n",
       "      <th rowspan=\"3\" valign=\"top\">G2</th>\n",
       "      <th>1</th>\n",
       "      <td>1.069088</td>\n",
       "      <td>-1.091840</td>\n",
       "    </tr>\n",
       "    <tr>\n",
       "      <th>2</th>\n",
       "      <td>-2.198515</td>\n",
       "      <td>0.538906</td>\n",
       "    </tr>\n",
       "    <tr>\n",
       "      <th>3</th>\n",
       "      <td>0.511715</td>\n",
       "      <td>-0.578169</td>\n",
       "    </tr>\n",
       "  </tbody>\n",
       "</table>\n",
       "</div>"
      ],
      "text/plain": [
       "             A         B\n",
       "G1 1  0.005772  0.208362\n",
       "   2  0.030225  1.076249\n",
       "   3 -0.804916  0.578374\n",
       "G2 1  1.069088 -1.091840\n",
       "   2 -2.198515  0.538906\n",
       "   3  0.511715 -0.578169"
      ]
     },
     "execution_count": 195,
     "metadata": {},
     "output_type": "execute_result"
    }
   ],
   "source": [
    "df = pd.DataFrame(np.random.randn(6,2), index = hier_index, columns = ['A','B'])\n",
    "df"
   ]
  },
  {
   "cell_type": "code",
   "execution_count": 196,
   "id": "a686bd86",
   "metadata": {},
   "outputs": [
    {
     "data": {
      "text/plain": [
       "A    0.005772\n",
       "B    0.208362\n",
       "Name: 1, dtype: float64"
      ]
     },
     "execution_count": 196,
     "metadata": {},
     "output_type": "execute_result"
    }
   ],
   "source": [
    "df.loc['G1'].loc[1]"
   ]
  },
  {
   "cell_type": "code",
   "execution_count": 197,
   "id": "62715bb7",
   "metadata": {},
   "outputs": [
    {
     "data": {
      "text/html": [
       "<div>\n",
       "<style scoped>\n",
       "    .dataframe tbody tr th:only-of-type {\n",
       "        vertical-align: middle;\n",
       "    }\n",
       "\n",
       "    .dataframe tbody tr th {\n",
       "        vertical-align: top;\n",
       "    }\n",
       "\n",
       "    .dataframe thead th {\n",
       "        text-align: right;\n",
       "    }\n",
       "</style>\n",
       "<table border=\"1\" class=\"dataframe\">\n",
       "  <thead>\n",
       "    <tr style=\"text-align: right;\">\n",
       "      <th></th>\n",
       "      <th></th>\n",
       "      <th>A</th>\n",
       "      <th>B</th>\n",
       "    </tr>\n",
       "  </thead>\n",
       "  <tbody>\n",
       "    <tr>\n",
       "      <th rowspan=\"3\" valign=\"top\">G1</th>\n",
       "      <th>1</th>\n",
       "      <td>0.005772</td>\n",
       "      <td>0.208362</td>\n",
       "    </tr>\n",
       "    <tr>\n",
       "      <th>2</th>\n",
       "      <td>0.030225</td>\n",
       "      <td>1.076249</td>\n",
       "    </tr>\n",
       "    <tr>\n",
       "      <th>3</th>\n",
       "      <td>-0.804916</td>\n",
       "      <td>0.578374</td>\n",
       "    </tr>\n",
       "    <tr>\n",
       "      <th rowspan=\"3\" valign=\"top\">G2</th>\n",
       "      <th>1</th>\n",
       "      <td>1.069088</td>\n",
       "      <td>-1.091840</td>\n",
       "    </tr>\n",
       "    <tr>\n",
       "      <th>2</th>\n",
       "      <td>-2.198515</td>\n",
       "      <td>0.538906</td>\n",
       "    </tr>\n",
       "    <tr>\n",
       "      <th>3</th>\n",
       "      <td>0.511715</td>\n",
       "      <td>-0.578169</td>\n",
       "    </tr>\n",
       "  </tbody>\n",
       "</table>\n",
       "</div>"
      ],
      "text/plain": [
       "             A         B\n",
       "G1 1  0.005772  0.208362\n",
       "   2  0.030225  1.076249\n",
       "   3 -0.804916  0.578374\n",
       "G2 1  1.069088 -1.091840\n",
       "   2 -2.198515  0.538906\n",
       "   3  0.511715 -0.578169"
      ]
     },
     "execution_count": 197,
     "metadata": {},
     "output_type": "execute_result"
    }
   ],
   "source": [
    "df"
   ]
  },
  {
   "cell_type": "code",
   "execution_count": 198,
   "id": "0478c634",
   "metadata": {},
   "outputs": [
    {
     "data": {
      "text/html": [
       "<div>\n",
       "<style scoped>\n",
       "    .dataframe tbody tr th:only-of-type {\n",
       "        vertical-align: middle;\n",
       "    }\n",
       "\n",
       "    .dataframe tbody tr th {\n",
       "        vertical-align: top;\n",
       "    }\n",
       "\n",
       "    .dataframe thead th {\n",
       "        text-align: right;\n",
       "    }\n",
       "</style>\n",
       "<table border=\"1\" class=\"dataframe\">\n",
       "  <thead>\n",
       "    <tr style=\"text-align: right;\">\n",
       "      <th></th>\n",
       "      <th></th>\n",
       "      <th>A</th>\n",
       "      <th>B</th>\n",
       "    </tr>\n",
       "    <tr>\n",
       "      <th>Group</th>\n",
       "      <th>Num</th>\n",
       "      <th></th>\n",
       "      <th></th>\n",
       "    </tr>\n",
       "  </thead>\n",
       "  <tbody>\n",
       "    <tr>\n",
       "      <th rowspan=\"3\" valign=\"top\">G1</th>\n",
       "      <th>1</th>\n",
       "      <td>0.005772</td>\n",
       "      <td>0.208362</td>\n",
       "    </tr>\n",
       "    <tr>\n",
       "      <th>2</th>\n",
       "      <td>0.030225</td>\n",
       "      <td>1.076249</td>\n",
       "    </tr>\n",
       "    <tr>\n",
       "      <th>3</th>\n",
       "      <td>-0.804916</td>\n",
       "      <td>0.578374</td>\n",
       "    </tr>\n",
       "    <tr>\n",
       "      <th rowspan=\"3\" valign=\"top\">G2</th>\n",
       "      <th>1</th>\n",
       "      <td>1.069088</td>\n",
       "      <td>-1.091840</td>\n",
       "    </tr>\n",
       "    <tr>\n",
       "      <th>2</th>\n",
       "      <td>-2.198515</td>\n",
       "      <td>0.538906</td>\n",
       "    </tr>\n",
       "    <tr>\n",
       "      <th>3</th>\n",
       "      <td>0.511715</td>\n",
       "      <td>-0.578169</td>\n",
       "    </tr>\n",
       "  </tbody>\n",
       "</table>\n",
       "</div>"
      ],
      "text/plain": [
       "                  A         B\n",
       "Group Num                    \n",
       "G1    1    0.005772  0.208362\n",
       "      2    0.030225  1.076249\n",
       "      3   -0.804916  0.578374\n",
       "G2    1    1.069088 -1.091840\n",
       "      2   -2.198515  0.538906\n",
       "      3    0.511715 -0.578169"
      ]
     },
     "execution_count": 198,
     "metadata": {},
     "output_type": "execute_result"
    }
   ],
   "source": [
    "df.index.names = [\"Group\", \"Num\"]\n",
    "df"
   ]
  },
  {
   "cell_type": "code",
   "execution_count": 200,
   "id": "83390fca",
   "metadata": {},
   "outputs": [
    {
     "name": "stderr",
     "output_type": "stream",
     "text": [
      "C:\\Users\\Computer\\AppData\\Local\\Temp\\ipykernel_8588\\4181962490.py:1: FutureWarning: Passing lists as key for xs is deprecated and will be removed in a future version. Pass key as a tuple instead.\n",
      "  df.xs([\"G1\",1])\n"
     ]
    },
    {
     "data": {
      "text/plain": [
       "A    0.005772\n",
       "B    0.208362\n",
       "Name: (G1, 1), dtype: float64"
      ]
     },
     "execution_count": 200,
     "metadata": {},
     "output_type": "execute_result"
    }
   ],
   "source": [
    "df.xs([\"G1\",1])"
   ]
  },
  {
   "cell_type": "code",
   "execution_count": 201,
   "id": "c7bce188",
   "metadata": {},
   "outputs": [
    {
     "data": {
      "text/html": [
       "<div>\n",
       "<style scoped>\n",
       "    .dataframe tbody tr th:only-of-type {\n",
       "        vertical-align: middle;\n",
       "    }\n",
       "\n",
       "    .dataframe tbody tr th {\n",
       "        vertical-align: top;\n",
       "    }\n",
       "\n",
       "    .dataframe thead th {\n",
       "        text-align: right;\n",
       "    }\n",
       "</style>\n",
       "<table border=\"1\" class=\"dataframe\">\n",
       "  <thead>\n",
       "    <tr style=\"text-align: right;\">\n",
       "      <th></th>\n",
       "      <th>A</th>\n",
       "      <th>B</th>\n",
       "    </tr>\n",
       "    <tr>\n",
       "      <th>Group</th>\n",
       "      <th></th>\n",
       "      <th></th>\n",
       "    </tr>\n",
       "  </thead>\n",
       "  <tbody>\n",
       "    <tr>\n",
       "      <th>G1</th>\n",
       "      <td>0.005772</td>\n",
       "      <td>0.208362</td>\n",
       "    </tr>\n",
       "    <tr>\n",
       "      <th>G2</th>\n",
       "      <td>1.069088</td>\n",
       "      <td>-1.091840</td>\n",
       "    </tr>\n",
       "  </tbody>\n",
       "</table>\n",
       "</div>"
      ],
      "text/plain": [
       "              A         B\n",
       "Group                    \n",
       "G1     0.005772  0.208362\n",
       "G2     1.069088 -1.091840"
      ]
     },
     "execution_count": 201,
     "metadata": {},
     "output_type": "execute_result"
    }
   ],
   "source": [
    "df.xs(1, level = \"Num\")"
   ]
  },
  {
   "cell_type": "code",
   "execution_count": 202,
   "id": "7d4b45e7",
   "metadata": {},
   "outputs": [
    {
     "data": {
      "text/html": [
       "<div>\n",
       "<style scoped>\n",
       "    .dataframe tbody tr th:only-of-type {\n",
       "        vertical-align: middle;\n",
       "    }\n",
       "\n",
       "    .dataframe tbody tr th {\n",
       "        vertical-align: top;\n",
       "    }\n",
       "\n",
       "    .dataframe thead th {\n",
       "        text-align: right;\n",
       "    }\n",
       "</style>\n",
       "<table border=\"1\" class=\"dataframe\">\n",
       "  <thead>\n",
       "    <tr style=\"text-align: right;\">\n",
       "      <th></th>\n",
       "      <th></th>\n",
       "      <th>A</th>\n",
       "      <th>B</th>\n",
       "    </tr>\n",
       "    <tr>\n",
       "      <th>Group</th>\n",
       "      <th>Num</th>\n",
       "      <th></th>\n",
       "      <th></th>\n",
       "    </tr>\n",
       "  </thead>\n",
       "  <tbody>\n",
       "    <tr>\n",
       "      <th rowspan=\"3\" valign=\"top\">G1</th>\n",
       "      <th>1</th>\n",
       "      <td>0.005772</td>\n",
       "      <td>0.208362</td>\n",
       "    </tr>\n",
       "    <tr>\n",
       "      <th>2</th>\n",
       "      <td>0.030225</td>\n",
       "      <td>1.076249</td>\n",
       "    </tr>\n",
       "    <tr>\n",
       "      <th>3</th>\n",
       "      <td>-0.804916</td>\n",
       "      <td>0.578374</td>\n",
       "    </tr>\n",
       "    <tr>\n",
       "      <th rowspan=\"3\" valign=\"top\">G2</th>\n",
       "      <th>1</th>\n",
       "      <td>1.069088</td>\n",
       "      <td>-1.091840</td>\n",
       "    </tr>\n",
       "    <tr>\n",
       "      <th>2</th>\n",
       "      <td>-2.198515</td>\n",
       "      <td>0.538906</td>\n",
       "    </tr>\n",
       "    <tr>\n",
       "      <th>3</th>\n",
       "      <td>0.511715</td>\n",
       "      <td>-0.578169</td>\n",
       "    </tr>\n",
       "  </tbody>\n",
       "</table>\n",
       "</div>"
      ],
      "text/plain": [
       "                  A         B\n",
       "Group Num                    \n",
       "G1    1    0.005772  0.208362\n",
       "      2    0.030225  1.076249\n",
       "      3   -0.804916  0.578374\n",
       "G2    1    1.069088 -1.091840\n",
       "      2   -2.198515  0.538906\n",
       "      3    0.511715 -0.578169"
      ]
     },
     "execution_count": 202,
     "metadata": {},
     "output_type": "execute_result"
    }
   ],
   "source": [
    "df"
   ]
  },
  {
   "cell_type": "code",
   "execution_count": null,
   "id": "6026161c",
   "metadata": {},
   "outputs": [],
   "source": []
  },
  {
   "cell_type": "code",
   "execution_count": null,
   "id": "76123bb1",
   "metadata": {},
   "outputs": [],
   "source": []
  }
 ],
 "metadata": {
  "kernelspec": {
   "display_name": "Python 3 (ipykernel)",
   "language": "python",
   "name": "python3"
  },
  "language_info": {
   "codemirror_mode": {
    "name": "ipython",
    "version": 3
   },
   "file_extension": ".py",
   "mimetype": "text/x-python",
   "name": "python",
   "nbconvert_exporter": "python",
   "pygments_lexer": "ipython3",
   "version": "3.9.12"
  }
 },
 "nbformat": 4,
 "nbformat_minor": 5
}
